{
 "cells": [
  {
   "cell_type": "code",
   "execution_count": 1,
   "metadata": {},
   "outputs": [],
   "source": [
    "%matplotlib inline\n",
    "import pandas as pd\n",
    "import numpy as np\n",
    "import matplotlib.pyplot as plt\n",
    "import matplotlib\n",
    "import matplotlib.pylab as pylab"
   ]
  },
  {
   "cell_type": "code",
   "execution_count": 2,
   "metadata": {},
   "outputs": [],
   "source": [
    "autos = pd.read_csv('autos.csv', encoding='Latin-1')"
   ]
  },
  {
   "cell_type": "code",
   "execution_count": 3,
   "metadata": {},
   "outputs": [
    {
     "data": {
      "text/html": [
       "<div>\n",
       "<style scoped>\n",
       "    .dataframe tbody tr th:only-of-type {\n",
       "        vertical-align: middle;\n",
       "    }\n",
       "\n",
       "    .dataframe tbody tr th {\n",
       "        vertical-align: top;\n",
       "    }\n",
       "\n",
       "    .dataframe thead th {\n",
       "        text-align: right;\n",
       "    }\n",
       "</style>\n",
       "<table border=\"1\" class=\"dataframe\">\n",
       "  <thead>\n",
       "    <tr style=\"text-align: right;\">\n",
       "      <th></th>\n",
       "      <th>dateCrawled</th>\n",
       "      <th>name</th>\n",
       "      <th>seller</th>\n",
       "      <th>offerType</th>\n",
       "      <th>price</th>\n",
       "      <th>abtest</th>\n",
       "      <th>vehicleType</th>\n",
       "      <th>yearOfRegistration</th>\n",
       "      <th>gearbox</th>\n",
       "      <th>powerPS</th>\n",
       "      <th>model</th>\n",
       "      <th>kilometer</th>\n",
       "      <th>monthOfRegistration</th>\n",
       "      <th>fuelType</th>\n",
       "      <th>brand</th>\n",
       "      <th>notRepairedDamage</th>\n",
       "      <th>dateCreated</th>\n",
       "      <th>nrOfPictures</th>\n",
       "      <th>postalCode</th>\n",
       "      <th>lastSeen</th>\n",
       "    </tr>\n",
       "  </thead>\n",
       "  <tbody>\n",
       "    <tr>\n",
       "      <th>0</th>\n",
       "      <td>2016-03-24 11:52:17</td>\n",
       "      <td>Golf_3_1.6</td>\n",
       "      <td>privat</td>\n",
       "      <td>Angebot</td>\n",
       "      <td>480</td>\n",
       "      <td>test</td>\n",
       "      <td>NaN</td>\n",
       "      <td>1993</td>\n",
       "      <td>manuell</td>\n",
       "      <td>0</td>\n",
       "      <td>golf</td>\n",
       "      <td>150000</td>\n",
       "      <td>0</td>\n",
       "      <td>benzin</td>\n",
       "      <td>volkswagen</td>\n",
       "      <td>NaN</td>\n",
       "      <td>2016-03-24 00:00:00</td>\n",
       "      <td>0</td>\n",
       "      <td>70435</td>\n",
       "      <td>2016-04-07 03:16:57</td>\n",
       "    </tr>\n",
       "    <tr>\n",
       "      <th>1</th>\n",
       "      <td>2016-03-24 10:58:45</td>\n",
       "      <td>A5_Sportback_2.7_Tdi</td>\n",
       "      <td>privat</td>\n",
       "      <td>Angebot</td>\n",
       "      <td>18300</td>\n",
       "      <td>test</td>\n",
       "      <td>coupe</td>\n",
       "      <td>2011</td>\n",
       "      <td>manuell</td>\n",
       "      <td>190</td>\n",
       "      <td>NaN</td>\n",
       "      <td>125000</td>\n",
       "      <td>5</td>\n",
       "      <td>diesel</td>\n",
       "      <td>audi</td>\n",
       "      <td>ja</td>\n",
       "      <td>2016-03-24 00:00:00</td>\n",
       "      <td>0</td>\n",
       "      <td>66954</td>\n",
       "      <td>2016-04-07 01:46:50</td>\n",
       "    </tr>\n",
       "    <tr>\n",
       "      <th>2</th>\n",
       "      <td>2016-03-14 12:52:21</td>\n",
       "      <td>Jeep_Grand_Cherokee_\"Overland\"</td>\n",
       "      <td>privat</td>\n",
       "      <td>Angebot</td>\n",
       "      <td>9800</td>\n",
       "      <td>test</td>\n",
       "      <td>suv</td>\n",
       "      <td>2004</td>\n",
       "      <td>automatik</td>\n",
       "      <td>163</td>\n",
       "      <td>grand</td>\n",
       "      <td>125000</td>\n",
       "      <td>8</td>\n",
       "      <td>diesel</td>\n",
       "      <td>jeep</td>\n",
       "      <td>NaN</td>\n",
       "      <td>2016-03-14 00:00:00</td>\n",
       "      <td>0</td>\n",
       "      <td>90480</td>\n",
       "      <td>2016-04-05 12:47:46</td>\n",
       "    </tr>\n",
       "    <tr>\n",
       "      <th>3</th>\n",
       "      <td>2016-03-17 16:54:04</td>\n",
       "      <td>GOLF_4_1_4__3TÜRER</td>\n",
       "      <td>privat</td>\n",
       "      <td>Angebot</td>\n",
       "      <td>1500</td>\n",
       "      <td>test</td>\n",
       "      <td>kleinwagen</td>\n",
       "      <td>2001</td>\n",
       "      <td>manuell</td>\n",
       "      <td>75</td>\n",
       "      <td>golf</td>\n",
       "      <td>150000</td>\n",
       "      <td>6</td>\n",
       "      <td>benzin</td>\n",
       "      <td>volkswagen</td>\n",
       "      <td>nein</td>\n",
       "      <td>2016-03-17 00:00:00</td>\n",
       "      <td>0</td>\n",
       "      <td>91074</td>\n",
       "      <td>2016-03-17 17:40:17</td>\n",
       "    </tr>\n",
       "    <tr>\n",
       "      <th>4</th>\n",
       "      <td>2016-03-31 17:25:20</td>\n",
       "      <td>Skoda_Fabia_1.4_TDI_PD_Classic</td>\n",
       "      <td>privat</td>\n",
       "      <td>Angebot</td>\n",
       "      <td>3600</td>\n",
       "      <td>test</td>\n",
       "      <td>kleinwagen</td>\n",
       "      <td>2008</td>\n",
       "      <td>manuell</td>\n",
       "      <td>69</td>\n",
       "      <td>fabia</td>\n",
       "      <td>90000</td>\n",
       "      <td>7</td>\n",
       "      <td>diesel</td>\n",
       "      <td>skoda</td>\n",
       "      <td>nein</td>\n",
       "      <td>2016-03-31 00:00:00</td>\n",
       "      <td>0</td>\n",
       "      <td>60437</td>\n",
       "      <td>2016-04-06 10:17:21</td>\n",
       "    </tr>\n",
       "  </tbody>\n",
       "</table>\n",
       "</div>"
      ],
      "text/plain": [
       "           dateCrawled                            name  seller offerType  \\\n",
       "0  2016-03-24 11:52:17                      Golf_3_1.6  privat   Angebot   \n",
       "1  2016-03-24 10:58:45            A5_Sportback_2.7_Tdi  privat   Angebot   \n",
       "2  2016-03-14 12:52:21  Jeep_Grand_Cherokee_\"Overland\"  privat   Angebot   \n",
       "3  2016-03-17 16:54:04              GOLF_4_1_4__3TÜRER  privat   Angebot   \n",
       "4  2016-03-31 17:25:20  Skoda_Fabia_1.4_TDI_PD_Classic  privat   Angebot   \n",
       "\n",
       "   price abtest vehicleType  yearOfRegistration    gearbox  powerPS  model  \\\n",
       "0    480   test         NaN                1993    manuell        0   golf   \n",
       "1  18300   test       coupe                2011    manuell      190    NaN   \n",
       "2   9800   test         suv                2004  automatik      163  grand   \n",
       "3   1500   test  kleinwagen                2001    manuell       75   golf   \n",
       "4   3600   test  kleinwagen                2008    manuell       69  fabia   \n",
       "\n",
       "   kilometer  monthOfRegistration fuelType       brand notRepairedDamage  \\\n",
       "0     150000                    0   benzin  volkswagen               NaN   \n",
       "1     125000                    5   diesel        audi                ja   \n",
       "2     125000                    8   diesel        jeep               NaN   \n",
       "3     150000                    6   benzin  volkswagen              nein   \n",
       "4      90000                    7   diesel       skoda              nein   \n",
       "\n",
       "           dateCreated  nrOfPictures  postalCode             lastSeen  \n",
       "0  2016-03-24 00:00:00             0       70435  2016-04-07 03:16:57  \n",
       "1  2016-03-24 00:00:00             0       66954  2016-04-07 01:46:50  \n",
       "2  2016-03-14 00:00:00             0       90480  2016-04-05 12:47:46  \n",
       "3  2016-03-17 00:00:00             0       91074  2016-03-17 17:40:17  \n",
       "4  2016-03-31 00:00:00             0       60437  2016-04-06 10:17:21  "
      ]
     },
     "execution_count": 3,
     "metadata": {},
     "output_type": "execute_result"
    }
   ],
   "source": [
    "autos.head()"
   ]
  },
  {
   "cell_type": "code",
   "execution_count": 50,
   "metadata": {},
   "outputs": [
    {
     "data": {
      "text/plain": [
       "(357964, 20)"
      ]
     },
     "execution_count": 50,
     "metadata": {},
     "output_type": "execute_result"
    }
   ],
   "source": [
    "autos.shape"
   ]
  },
  {
   "cell_type": "code",
   "execution_count": 51,
   "metadata": {},
   "outputs": [
    {
     "name": "stdout",
     "output_type": "stream",
     "text": [
      "<class 'pandas.core.frame.DataFrame'>\n",
      "Int64Index: 357964 entries, 0 to 371527\n",
      "Data columns (total 20 columns):\n",
      "date_crawled          357964 non-null object\n",
      "name                  357964 non-null object\n",
      "seller                357964 non-null object\n",
      "offer_type            357964 non-null object\n",
      "price_$               357964 non-null int64\n",
      "abtest                357964 non-null object\n",
      "vehicle_type          325168 non-null object\n",
      "registration_year     357964 non-null int64\n",
      "gearbox               341422 non-null object\n",
      "powerPS               357964 non-null int64\n",
      "model                 340252 non-null object\n",
      "odometer_km           357964 non-null int64\n",
      "registration_month    357964 non-null int64\n",
      "fuel_type             329272 non-null object\n",
      "brand                 357964 non-null object\n",
      "unrepaired_damage     292873 non-null object\n",
      "ad_created            357964 non-null object\n",
      "nr_of_pictures        357964 non-null int64\n",
      "postal_code           357964 non-null int64\n",
      "last_seen             357964 non-null object\n",
      "dtypes: int64(7), object(13)\n",
      "memory usage: 57.4+ MB\n"
     ]
    }
   ],
   "source": [
    "autos.info()"
   ]
  },
  {
   "cell_type": "markdown",
   "metadata": {},
   "source": [
    "Five columns have missing data:\n",
    "    vehicleType around 10%\n",
    "    gearbox around 5%\n",
    "    model around 5%\n",
    "    fuelType around 10%\n",
    "    notRepairedDamage around 20%"
   ]
  },
  {
   "cell_type": "code",
   "execution_count": 52,
   "metadata": {},
   "outputs": [
    {
     "data": {
      "text/plain": [
       "Index(['date_crawled', 'name', 'seller', 'offer_type', 'price_$', 'abtest',\n",
       "       'vehicle_type', 'registration_year', 'gearbox', 'powerPS', 'model',\n",
       "       'odometer_km', 'registration_month', 'fuel_type', 'brand',\n",
       "       'unrepaired_damage', 'ad_created', 'nr_of_pictures', 'postal_code',\n",
       "       'last_seen'],\n",
       "      dtype='object')"
      ]
     },
     "execution_count": 52,
     "metadata": {},
     "output_type": "execute_result"
    }
   ],
   "source": [
    "autos.columns"
   ]
  },
  {
   "cell_type": "markdown",
   "metadata": {},
   "source": [
    "The column names use camelcase instead than snakecase, meaning we cannot replace spaces with underscores."
   ]
  },
  {
   "cell_type": "code",
   "execution_count": 53,
   "metadata": {},
   "outputs": [],
   "source": [
    "columns = ['date_crawled', 'name', 'seller', 'offer_type', 'price', \n",
    "           'abtest', 'vehicle_type', 'registration_year', 'gearbox',\n",
    "           'powerPS', 'model', 'odometer', 'registration_month',\n",
    "           'fuel_type', 'brand', 'unrepaired_damage', 'ad_created',\n",
    "           'nr_of_pictures', 'postal_code', 'last_seen']\n",
    "           \n",
    "autos.columns = columns"
   ]
  },
  {
   "cell_type": "code",
   "execution_count": 54,
   "metadata": {},
   "outputs": [
    {
     "data": {
      "text/html": [
       "<div>\n",
       "<style scoped>\n",
       "    .dataframe tbody tr th:only-of-type {\n",
       "        vertical-align: middle;\n",
       "    }\n",
       "\n",
       "    .dataframe tbody tr th {\n",
       "        vertical-align: top;\n",
       "    }\n",
       "\n",
       "    .dataframe thead th {\n",
       "        text-align: right;\n",
       "    }\n",
       "</style>\n",
       "<table border=\"1\" class=\"dataframe\">\n",
       "  <thead>\n",
       "    <tr style=\"text-align: right;\">\n",
       "      <th></th>\n",
       "      <th>date_crawled</th>\n",
       "      <th>name</th>\n",
       "      <th>seller</th>\n",
       "      <th>offer_type</th>\n",
       "      <th>price</th>\n",
       "      <th>abtest</th>\n",
       "      <th>vehicle_type</th>\n",
       "      <th>registration_year</th>\n",
       "      <th>gearbox</th>\n",
       "      <th>powerPS</th>\n",
       "      <th>model</th>\n",
       "      <th>odometer</th>\n",
       "      <th>registration_month</th>\n",
       "      <th>fuel_type</th>\n",
       "      <th>brand</th>\n",
       "      <th>unrepaired_damage</th>\n",
       "      <th>ad_created</th>\n",
       "      <th>nr_of_pictures</th>\n",
       "      <th>postal_code</th>\n",
       "      <th>last_seen</th>\n",
       "    </tr>\n",
       "  </thead>\n",
       "  <tbody>\n",
       "    <tr>\n",
       "      <th>0</th>\n",
       "      <td>2016-03-24</td>\n",
       "      <td>Golf_3_1.6</td>\n",
       "      <td>private</td>\n",
       "      <td>offer</td>\n",
       "      <td>480</td>\n",
       "      <td>test</td>\n",
       "      <td>NaN</td>\n",
       "      <td>1993</td>\n",
       "      <td>manual</td>\n",
       "      <td>0</td>\n",
       "      <td>golf</td>\n",
       "      <td>150000</td>\n",
       "      <td>0</td>\n",
       "      <td>petrol</td>\n",
       "      <td>volkswagen</td>\n",
       "      <td>NaN</td>\n",
       "      <td>2016-03-24</td>\n",
       "      <td>0</td>\n",
       "      <td>70435</td>\n",
       "      <td>2016-04-07</td>\n",
       "    </tr>\n",
       "    <tr>\n",
       "      <th>1</th>\n",
       "      <td>2016-03-24</td>\n",
       "      <td>A5_Sportback_2.7_Tdi</td>\n",
       "      <td>private</td>\n",
       "      <td>offer</td>\n",
       "      <td>18300</td>\n",
       "      <td>test</td>\n",
       "      <td>coupe</td>\n",
       "      <td>2011</td>\n",
       "      <td>manual</td>\n",
       "      <td>190</td>\n",
       "      <td>NaN</td>\n",
       "      <td>125000</td>\n",
       "      <td>5</td>\n",
       "      <td>diesel</td>\n",
       "      <td>audi</td>\n",
       "      <td>yes</td>\n",
       "      <td>2016-03-24</td>\n",
       "      <td>0</td>\n",
       "      <td>66954</td>\n",
       "      <td>2016-04-07</td>\n",
       "    </tr>\n",
       "    <tr>\n",
       "      <th>2</th>\n",
       "      <td>2016-03-14</td>\n",
       "      <td>Jeep_Grand_Cherokee_\"Overland\"</td>\n",
       "      <td>private</td>\n",
       "      <td>offer</td>\n",
       "      <td>9800</td>\n",
       "      <td>test</td>\n",
       "      <td>suv</td>\n",
       "      <td>2004</td>\n",
       "      <td>automatic</td>\n",
       "      <td>163</td>\n",
       "      <td>grand</td>\n",
       "      <td>125000</td>\n",
       "      <td>8</td>\n",
       "      <td>diesel</td>\n",
       "      <td>jeep</td>\n",
       "      <td>NaN</td>\n",
       "      <td>2016-03-14</td>\n",
       "      <td>0</td>\n",
       "      <td>90480</td>\n",
       "      <td>2016-04-05</td>\n",
       "    </tr>\n",
       "    <tr>\n",
       "      <th>3</th>\n",
       "      <td>2016-03-17</td>\n",
       "      <td>GOLF_4_1_4__3TÜRER</td>\n",
       "      <td>private</td>\n",
       "      <td>offer</td>\n",
       "      <td>1500</td>\n",
       "      <td>test</td>\n",
       "      <td>kleinwagen</td>\n",
       "      <td>2001</td>\n",
       "      <td>manual</td>\n",
       "      <td>75</td>\n",
       "      <td>golf</td>\n",
       "      <td>150000</td>\n",
       "      <td>6</td>\n",
       "      <td>petrol</td>\n",
       "      <td>volkswagen</td>\n",
       "      <td>no</td>\n",
       "      <td>2016-03-17</td>\n",
       "      <td>0</td>\n",
       "      <td>91074</td>\n",
       "      <td>2016-03-17</td>\n",
       "    </tr>\n",
       "    <tr>\n",
       "      <th>4</th>\n",
       "      <td>2016-03-31</td>\n",
       "      <td>Skoda_Fabia_1.4_TDI_PD_Classic</td>\n",
       "      <td>private</td>\n",
       "      <td>offer</td>\n",
       "      <td>3600</td>\n",
       "      <td>test</td>\n",
       "      <td>kleinwagen</td>\n",
       "      <td>2008</td>\n",
       "      <td>manual</td>\n",
       "      <td>69</td>\n",
       "      <td>fabia</td>\n",
       "      <td>90000</td>\n",
       "      <td>7</td>\n",
       "      <td>diesel</td>\n",
       "      <td>skoda</td>\n",
       "      <td>no</td>\n",
       "      <td>2016-03-31</td>\n",
       "      <td>0</td>\n",
       "      <td>60437</td>\n",
       "      <td>2016-04-06</td>\n",
       "    </tr>\n",
       "  </tbody>\n",
       "</table>\n",
       "</div>"
      ],
      "text/plain": [
       "  date_crawled                            name   seller offer_type  price  \\\n",
       "0   2016-03-24                      Golf_3_1.6  private      offer    480   \n",
       "1   2016-03-24            A5_Sportback_2.7_Tdi  private      offer  18300   \n",
       "2   2016-03-14  Jeep_Grand_Cherokee_\"Overland\"  private      offer   9800   \n",
       "3   2016-03-17              GOLF_4_1_4__3TÜRER  private      offer   1500   \n",
       "4   2016-03-31  Skoda_Fabia_1.4_TDI_PD_Classic  private      offer   3600   \n",
       "\n",
       "  abtest vehicle_type  registration_year    gearbox  powerPS  model  odometer  \\\n",
       "0   test          NaN               1993     manual        0   golf    150000   \n",
       "1   test        coupe               2011     manual      190    NaN    125000   \n",
       "2   test          suv               2004  automatic      163  grand    125000   \n",
       "3   test   kleinwagen               2001     manual       75   golf    150000   \n",
       "4   test   kleinwagen               2008     manual       69  fabia     90000   \n",
       "\n",
       "   registration_month fuel_type       brand unrepaired_damage  ad_created  \\\n",
       "0                   0    petrol  volkswagen               NaN  2016-03-24   \n",
       "1                   5    diesel        audi               yes  2016-03-24   \n",
       "2                   8    diesel        jeep               NaN  2016-03-14   \n",
       "3                   6    petrol  volkswagen                no  2016-03-17   \n",
       "4                   7    diesel       skoda                no  2016-03-31   \n",
       "\n",
       "   nr_of_pictures  postal_code   last_seen  \n",
       "0               0        70435  2016-04-07  \n",
       "1               0        66954  2016-04-07  \n",
       "2               0        90480  2016-04-05  \n",
       "3               0        91074  2016-03-17  \n",
       "4               0        60437  2016-04-06  "
      ]
     },
     "execution_count": 54,
     "metadata": {},
     "output_type": "execute_result"
    }
   ],
   "source": [
    "autos.head()"
   ]
  },
  {
   "cell_type": "code",
   "execution_count": 55,
   "metadata": {},
   "outputs": [
    {
     "data": {
      "text/html": [
       "<div>\n",
       "<style scoped>\n",
       "    .dataframe tbody tr th:only-of-type {\n",
       "        vertical-align: middle;\n",
       "    }\n",
       "\n",
       "    .dataframe tbody tr th {\n",
       "        vertical-align: top;\n",
       "    }\n",
       "\n",
       "    .dataframe thead th {\n",
       "        text-align: right;\n",
       "    }\n",
       "</style>\n",
       "<table border=\"1\" class=\"dataframe\">\n",
       "  <thead>\n",
       "    <tr style=\"text-align: right;\">\n",
       "      <th></th>\n",
       "      <th>price</th>\n",
       "      <th>registration_year</th>\n",
       "      <th>powerPS</th>\n",
       "      <th>odometer</th>\n",
       "      <th>registration_month</th>\n",
       "      <th>nr_of_pictures</th>\n",
       "      <th>postal_code</th>\n",
       "    </tr>\n",
       "  </thead>\n",
       "  <tbody>\n",
       "    <tr>\n",
       "      <th>count</th>\n",
       "      <td>357964.000000</td>\n",
       "      <td>357964.000000</td>\n",
       "      <td>357964.000000</td>\n",
       "      <td>357964.000000</td>\n",
       "      <td>357964.000000</td>\n",
       "      <td>357964.0</td>\n",
       "      <td>357964.000000</td>\n",
       "    </tr>\n",
       "    <tr>\n",
       "      <th>mean</th>\n",
       "      <td>6035.271647</td>\n",
       "      <td>2003.487529</td>\n",
       "      <td>117.000193</td>\n",
       "      <td>125846.551609</td>\n",
       "      <td>5.818147</td>\n",
       "      <td>0.0</td>\n",
       "      <td>51013.661371</td>\n",
       "    </tr>\n",
       "    <tr>\n",
       "      <th>std</th>\n",
       "      <td>12444.693614</td>\n",
       "      <td>7.508159</td>\n",
       "      <td>190.736902</td>\n",
       "      <td>39543.551299</td>\n",
       "      <td>3.674954</td>\n",
       "      <td>0.0</td>\n",
       "      <td>25749.440685</td>\n",
       "    </tr>\n",
       "    <tr>\n",
       "      <th>min</th>\n",
       "      <td>100.000000</td>\n",
       "      <td>1923.000000</td>\n",
       "      <td>0.000000</td>\n",
       "      <td>5000.000000</td>\n",
       "      <td>0.000000</td>\n",
       "      <td>0.0</td>\n",
       "      <td>1067.000000</td>\n",
       "    </tr>\n",
       "    <tr>\n",
       "      <th>25%</th>\n",
       "      <td>1290.000000</td>\n",
       "      <td>1999.000000</td>\n",
       "      <td>74.000000</td>\n",
       "      <td>125000.000000</td>\n",
       "      <td>3.000000</td>\n",
       "      <td>0.0</td>\n",
       "      <td>30827.000000</td>\n",
       "    </tr>\n",
       "    <tr>\n",
       "      <th>50%</th>\n",
       "      <td>3100.000000</td>\n",
       "      <td>2004.000000</td>\n",
       "      <td>107.000000</td>\n",
       "      <td>150000.000000</td>\n",
       "      <td>6.000000</td>\n",
       "      <td>0.0</td>\n",
       "      <td>49762.000000</td>\n",
       "    </tr>\n",
       "    <tr>\n",
       "      <th>75%</th>\n",
       "      <td>7500.000000</td>\n",
       "      <td>2008.000000</td>\n",
       "      <td>150.000000</td>\n",
       "      <td>150000.000000</td>\n",
       "      <td>9.000000</td>\n",
       "      <td>0.0</td>\n",
       "      <td>71679.000000</td>\n",
       "    </tr>\n",
       "    <tr>\n",
       "      <th>max</th>\n",
       "      <td>1000000.000000</td>\n",
       "      <td>2018.000000</td>\n",
       "      <td>20000.000000</td>\n",
       "      <td>150000.000000</td>\n",
       "      <td>12.000000</td>\n",
       "      <td>0.0</td>\n",
       "      <td>99998.000000</td>\n",
       "    </tr>\n",
       "  </tbody>\n",
       "</table>\n",
       "</div>"
      ],
      "text/plain": [
       "                price  registration_year        powerPS       odometer  \\\n",
       "count   357964.000000      357964.000000  357964.000000  357964.000000   \n",
       "mean      6035.271647        2003.487529     117.000193  125846.551609   \n",
       "std      12444.693614           7.508159     190.736902   39543.551299   \n",
       "min        100.000000        1923.000000       0.000000    5000.000000   \n",
       "25%       1290.000000        1999.000000      74.000000  125000.000000   \n",
       "50%       3100.000000        2004.000000     107.000000  150000.000000   \n",
       "75%       7500.000000        2008.000000     150.000000  150000.000000   \n",
       "max    1000000.000000        2018.000000   20000.000000  150000.000000   \n",
       "\n",
       "       registration_month  nr_of_pictures    postal_code  \n",
       "count       357964.000000        357964.0  357964.000000  \n",
       "mean             5.818147             0.0   51013.661371  \n",
       "std              3.674954             0.0   25749.440685  \n",
       "min              0.000000             0.0    1067.000000  \n",
       "25%              3.000000             0.0   30827.000000  \n",
       "50%              6.000000             0.0   49762.000000  \n",
       "75%              9.000000             0.0   71679.000000  \n",
       "max             12.000000             0.0   99998.000000  "
      ]
     },
     "execution_count": 55,
     "metadata": {},
     "output_type": "execute_result"
    }
   ],
   "source": [
    "autos.describe()"
   ]
  },
  {
   "cell_type": "markdown",
   "metadata": {},
   "source": [
    "We can already notice some crazy outliers.\n",
    "We are going to take care of them soon enough."
   ]
  },
  {
   "cell_type": "code",
   "execution_count": 56,
   "metadata": {},
   "outputs": [],
   "source": [
    "autos.rename(columns={'odometer':'odometer_km'}, inplace=True)\n",
    "autos.rename(columns={'price':'price_$'}, inplace=True)"
   ]
  },
  {
   "cell_type": "code",
   "execution_count": 57,
   "metadata": {},
   "outputs": [
    {
     "name": "stdout",
     "output_type": "stream",
     "text": [
      "(13,)\n",
      "count    357964.000000\n",
      "mean     125846.551609\n",
      "std       39543.551299\n",
      "min        5000.000000\n",
      "25%      125000.000000\n",
      "50%      150000.000000\n",
      "75%      150000.000000\n",
      "max      150000.000000\n",
      "Name: odometer_km, dtype: float64\n",
      "5000        5400\n",
      "10000       1781\n",
      "20000       5492\n",
      "30000       5915\n",
      "40000       6312\n",
      "50000       7519\n",
      "60000       8581\n",
      "70000       9646\n",
      "80000      10873\n",
      "90000      12324\n",
      "100000     15370\n",
      "125000     37229\n",
      "150000    231522\n",
      "Name: odometer_km, dtype: int64\n"
     ]
    }
   ],
   "source": [
    "print(autos['odometer_km'].unique().shape)\n",
    "print(autos['odometer_km'].describe())\n",
    "print(autos['odometer_km'].value_counts().sort_index(ascending=True))      "
   ]
  },
  {
   "cell_type": "code",
   "execution_count": 58,
   "metadata": {},
   "outputs": [
    {
     "name": "stdout",
     "output_type": "stream",
     "text": [
      "(5517,)\n",
      "count     357964.000000\n",
      "mean        6035.271647\n",
      "std        12444.693614\n",
      "min          100.000000\n",
      "25%         1290.000000\n",
      "50%         3100.000000\n",
      "75%         7500.000000\n",
      "max      1000000.000000\n",
      "Name: price_$, dtype: float64\n",
      "100        1027\n",
      "101           4\n",
      "105           3\n",
      "106           1\n",
      "108           1\n",
      "110          35\n",
      "111          15\n",
      "112           1\n",
      "115           4\n",
      "117           4\n",
      "119           4\n",
      "120         240\n",
      "121           1\n",
      "122           3\n",
      "123           3\n",
      "125          51\n",
      "126           1\n",
      "127           1\n",
      "128           1\n",
      "129           7\n",
      "130          96\n",
      "132           1\n",
      "133           1\n",
      "135           9\n",
      "139           4\n",
      "140          45\n",
      "142           1\n",
      "145           6\n",
      "149          39\n",
      "150        1607\n",
      "           ... \n",
      "368000        1\n",
      "370000        2\n",
      "390000        1\n",
      "395000        1\n",
      "399997        1\n",
      "420000        1\n",
      "440000        1\n",
      "445000        1\n",
      "466000        1\n",
      "485000        1\n",
      "487000        1\n",
      "488997        1\n",
      "500000        2\n",
      "517895        1\n",
      "579000        1\n",
      "585000        1\n",
      "599000        1\n",
      "600000        2\n",
      "619000        1\n",
      "650000        1\n",
      "700000        1\n",
      "725000        1\n",
      "745000        2\n",
      "780000        1\n",
      "820000        1\n",
      "849000        1\n",
      "911911        1\n",
      "999990        1\n",
      "999999       11\n",
      "1000000       5\n",
      "Name: price_$, Length: 5517, dtype: int64\n"
     ]
    }
   ],
   "source": [
    "print(autos['price_$'].unique().shape)\n",
    "print(autos['price_$'].describe())\n",
    "print(autos['price_$'].value_counts().sort_index(ascending=True)) "
   ]
  },
  {
   "cell_type": "code",
   "execution_count": 59,
   "metadata": {},
   "outputs": [],
   "source": [
    "autos = autos[autos[\"price_$\"].between(100,1000000)]"
   ]
  },
  {
   "cell_type": "markdown",
   "metadata": {},
   "source": [
    "We removed more than 1000 outlier (on 50000), basing on the price, \n",
    "deleting the ads with price lower than 100 and higher than 1 million.\n",
    "We can get the date from the columns date_crawled, ad_created, last_seen. \n",
    "It's in the first 10 characters, in the three columns."
   ]
  },
  {
   "cell_type": "code",
   "execution_count": 60,
   "metadata": {},
   "outputs": [
    {
     "data": {
      "text/html": [
       "<div>\n",
       "<style scoped>\n",
       "    .dataframe tbody tr th:only-of-type {\n",
       "        vertical-align: middle;\n",
       "    }\n",
       "\n",
       "    .dataframe tbody tr th {\n",
       "        vertical-align: top;\n",
       "    }\n",
       "\n",
       "    .dataframe thead th {\n",
       "        text-align: right;\n",
       "    }\n",
       "</style>\n",
       "<table border=\"1\" class=\"dataframe\">\n",
       "  <thead>\n",
       "    <tr style=\"text-align: right;\">\n",
       "      <th></th>\n",
       "      <th>date_crawled</th>\n",
       "      <th>ad_created</th>\n",
       "      <th>last_seen</th>\n",
       "    </tr>\n",
       "  </thead>\n",
       "  <tbody>\n",
       "    <tr>\n",
       "      <th>0</th>\n",
       "      <td>2016-03-24</td>\n",
       "      <td>2016-03-24</td>\n",
       "      <td>2016-04-07</td>\n",
       "    </tr>\n",
       "    <tr>\n",
       "      <th>1</th>\n",
       "      <td>2016-03-24</td>\n",
       "      <td>2016-03-24</td>\n",
       "      <td>2016-04-07</td>\n",
       "    </tr>\n",
       "    <tr>\n",
       "      <th>2</th>\n",
       "      <td>2016-03-14</td>\n",
       "      <td>2016-03-14</td>\n",
       "      <td>2016-04-05</td>\n",
       "    </tr>\n",
       "    <tr>\n",
       "      <th>3</th>\n",
       "      <td>2016-03-17</td>\n",
       "      <td>2016-03-17</td>\n",
       "      <td>2016-03-17</td>\n",
       "    </tr>\n",
       "    <tr>\n",
       "      <th>4</th>\n",
       "      <td>2016-03-31</td>\n",
       "      <td>2016-03-31</td>\n",
       "      <td>2016-04-06</td>\n",
       "    </tr>\n",
       "  </tbody>\n",
       "</table>\n",
       "</div>"
      ],
      "text/plain": [
       "  date_crawled  ad_created   last_seen\n",
       "0   2016-03-24  2016-03-24  2016-04-07\n",
       "1   2016-03-24  2016-03-24  2016-04-07\n",
       "2   2016-03-14  2016-03-14  2016-04-05\n",
       "3   2016-03-17  2016-03-17  2016-03-17\n",
       "4   2016-03-31  2016-03-31  2016-04-06"
      ]
     },
     "execution_count": 60,
     "metadata": {},
     "output_type": "execute_result"
    }
   ],
   "source": [
    "import warnings\n",
    "warnings.filterwarnings('ignore')\n",
    "autos['date_crawled'] = autos.loc[:,'date_crawled'].str[:10]\n",
    "autos['ad_created'] = autos.loc[:,'ad_created'].str[:10]\n",
    "autos['last_seen'] = autos.loc[:,'last_seen'].str[:10]\n",
    "autos[['date_crawled','ad_created','last_seen']].head()"
   ]
  },
  {
   "cell_type": "markdown",
   "metadata": {},
   "source": [
    "We extracted the date in three columns:\n",
    "    date_crawled\n",
    "    ad_created\n",
    "    last_seen"
   ]
  },
  {
   "cell_type": "code",
   "execution_count": 61,
   "metadata": {},
   "outputs": [
    {
     "name": "stdout",
     "output_type": "stream",
     "text": [
      "count         357964\n",
      "unique            34\n",
      "top       2016-04-03\n",
      "freq           13921\n",
      "Name: date_crawled, dtype: object\n",
      "2016-03-05    0.025567\n",
      "2016-03-06    0.014432\n",
      "2016-03-07    0.035632\n",
      "2016-03-08    0.033461\n",
      "2016-03-09    0.034121\n",
      "2016-03-10    0.032643\n",
      "2016-03-11    0.032746\n",
      "2016-03-12    0.036333\n",
      "2016-03-13    0.015812\n",
      "2016-03-14    0.036336\n",
      "2016-03-15    0.033408\n",
      "2016-03-16    0.030201\n",
      "2016-03-17    0.031626\n",
      "2016-03-18    0.013105\n",
      "2016-03-19    0.035249\n",
      "2016-03-20    0.036356\n",
      "2016-03-21    0.035646\n",
      "2016-03-22    0.032453\n",
      "2016-03-23    0.031964\n",
      "2016-03-24    0.029886\n",
      "2016-03-25    0.032777\n",
      "2016-03-26    0.032026\n",
      "2016-03-27    0.030207\n",
      "2016-03-28    0.035059\n",
      "2016-03-29    0.034124\n",
      "2016-03-30    0.033565\n",
      "2016-03-31    0.031886\n",
      "2016-04-01    0.034188\n",
      "2016-04-02    0.035129\n",
      "2016-04-03    0.038889\n",
      "2016-04-04    0.037666\n",
      "2016-04-05    0.012772\n",
      "2016-04-06    0.003129\n",
      "2016-04-07    0.001606\n",
      "Name: date_crawled, dtype: float64\n"
     ]
    },
    {
     "data": {
      "text/plain": [
       "Text(0.5,1,'Data Crawled')"
      ]
     },
     "execution_count": 61,
     "metadata": {},
     "output_type": "execute_result"
    },
    {
     "data": {
      "image/png": "[encoded data removed]",
      "text/plain": [
       "<Figure size 432x288 with 1 Axes>"
      ]
     },
     "metadata": {},
     "output_type": "display_data"
    }
   ],
   "source": [
    "print(autos['date_crawled'].describe())\n",
    "print(autos['date_crawled'].value_counts(normalize=True, dropna=False).sort_index())\n",
    "fig = plt.figure(figsize=(6,4))\n",
    "A = autos['date_crawled'].value_counts(normalize=True, dropna=False).sort_index()\n",
    "ax = fig.add_subplot(111)\n",
    "ax.plot(A)\n",
    "# Turn off tick labels\n",
    "ax.set_yticklabels([])\n",
    "ax.set_xticklabels([])\n",
    "ax.get_xaxis().set_visible(False)\n",
    "ax.get_yaxis().set_visible(False)\n",
    "plt.axis('off')\n",
    "ax.set_title(\"Data Crawled\")"
   ]
  },
  {
   "cell_type": "markdown",
   "metadata": {},
   "source": [
    "This dataset has 358.143 observations with 34 unique days when ads were crawled.\n",
    "The last two days are considerably less present, with values of 0.31% and 0.16%.\n",
    "We can suppose that the observation has stopped shotly thereafter, so no surprise.\n",
    "Regarding the other 32 unique days, the percentage stays between 1.2% and 3.8%."
   ]
  },
  {
   "cell_type": "code",
   "execution_count": 62,
   "metadata": {},
   "outputs": [
    {
     "name": "stdout",
     "output_type": "stream",
     "text": [
      "count         357964\n",
      "unique           114\n",
      "top       2016-04-03\n",
      "freq           13989\n",
      "Name: ad_created, dtype: object\n",
      "2014-03-10    0.000003\n",
      "2015-03-20    0.000003\n",
      "2015-06-11    0.000003\n",
      "2015-06-18    0.000003\n",
      "2015-08-07    0.000003\n",
      "2015-08-10    0.000003\n",
      "2015-09-04    0.000006\n",
      "2015-09-09    0.000003\n",
      "2015-10-14    0.000003\n",
      "2015-11-02    0.000003\n",
      "2015-11-08    0.000003\n",
      "2015-11-10    0.000003\n",
      "2015-11-12    0.000003\n",
      "2015-11-13    0.000003\n",
      "2015-11-17    0.000003\n",
      "2015-11-23    0.000006\n",
      "2015-11-24    0.000006\n",
      "2015-12-05    0.000008\n",
      "2015-12-06    0.000003\n",
      "2015-12-17    0.000003\n",
      "2015-12-27    0.000003\n",
      "2015-12-28    0.000003\n",
      "2015-12-30    0.000008\n",
      "2016-01-02    0.000011\n",
      "2016-01-03    0.000003\n",
      "2016-01-06    0.000003\n",
      "2016-01-07    0.000008\n",
      "2016-01-08    0.000003\n",
      "2016-01-10    0.000011\n",
      "2016-01-13    0.000008\n",
      "                ...   \n",
      "2016-03-09    0.034168\n",
      "2016-03-10    0.032517\n",
      "2016-03-11    0.032771\n",
      "2016-03-12    0.036174\n",
      "2016-03-13    0.017083\n",
      "2016-03-14    0.035274\n",
      "2016-03-15    0.033333\n",
      "2016-03-16    0.030428\n",
      "2016-03-17    0.031218\n",
      "2016-03-18    0.014010\n",
      "2016-03-19    0.034280\n",
      "2016-03-20    0.036437\n",
      "2016-03-21    0.035752\n",
      "2016-03-22    0.032148\n",
      "2016-03-23    0.031933\n",
      "2016-03-24    0.029922\n",
      "2016-03-25    0.032833\n",
      "2016-03-26    0.032140\n",
      "2016-03-27    0.029989\n",
      "2016-03-28    0.035129\n",
      "2016-03-29    0.034160\n",
      "2016-03-30    0.033425\n",
      "2016-03-31    0.031970\n",
      "2016-04-01    0.034023\n",
      "2016-04-02    0.035017\n",
      "2016-04-03    0.039079\n",
      "2016-04-04    0.037766\n",
      "2016-04-05    0.011607\n",
      "2016-04-06    0.003120\n",
      "2016-04-07    0.001542\n",
      "Name: ad_created, Length: 114, dtype: float64\n"
     ]
    },
    {
     "data": {
      "text/plain": [
       "Text(0.5,1,'Ad Created')"
      ]
     },
     "execution_count": 62,
     "metadata": {},
     "output_type": "execute_result"
    },
    {
     "data": {
      "image/png": "[encoded data removed]",
      "text/plain": [
       "<Figure size 432x288 with 1 Axes>"
      ]
     },
     "metadata": {},
     "output_type": "display_data"
    }
   ],
   "source": [
    "print(autos['ad_created'].describe())\n",
    "print(autos['ad_created'].value_counts(normalize=True, dropna=False).sort_index())\n",
    "fig = plt.figure(figsize=(6,4))\n",
    "B = autos['ad_created'].value_counts(normalize=True, dropna=False).sort_index()\n",
    "ax = fig.add_subplot(111)\n",
    "ax.plot(B)\n",
    "# Turn off tick labels\n",
    "ax.set_yticklabels([])\n",
    "ax.set_xticklabels([])\n",
    "ax.get_xaxis().set_visible(False)\n",
    "ax.get_yaxis().set_visible(False)\n",
    "plt.axis('off')\n",
    "ax.set_title(\"Ad Created\")"
   ]
  },
  {
   "cell_type": "code",
   "execution_count": 63,
   "metadata": {},
   "outputs": [
    {
     "data": {
      "text/plain": [
       "2016-03-05    0.022896\n",
       "2016-03-06    0.015457\n",
       "2016-03-07    0.034464\n",
       "2016-03-08    0.033364\n",
       "2016-03-09    0.034168\n",
       "2016-03-10    0.032517\n",
       "2016-03-11    0.032771\n",
       "2016-03-12    0.036174\n",
       "2016-03-13    0.017083\n",
       "2016-03-14    0.035274\n",
       "2016-03-15    0.033333\n",
       "2016-03-16    0.030428\n",
       "2016-03-17    0.031218\n",
       "2016-03-18    0.014010\n",
       "2016-03-19    0.034280\n",
       "2016-03-20    0.036437\n",
       "2016-03-21    0.035752\n",
       "2016-03-22    0.032148\n",
       "2016-03-23    0.031933\n",
       "2016-03-24    0.029922\n",
       "2016-03-25    0.032833\n",
       "2016-03-26    0.032140\n",
       "2016-03-27    0.029989\n",
       "2016-03-28    0.035129\n",
       "2016-03-29    0.034160\n",
       "2016-03-30    0.033425\n",
       "2016-03-31    0.031970\n",
       "2016-04-01    0.034023\n",
       "2016-04-02    0.035017\n",
       "2016-04-03    0.039079\n",
       "2016-04-04    0.037766\n",
       "2016-04-05    0.011607\n",
       "Name: ad_created, dtype: float64"
      ]
     },
     "execution_count": 63,
     "metadata": {},
     "output_type": "execute_result"
    }
   ],
   "source": [
    "# Let's check which days have a traffic higher than 1%\n",
    "(B[B.values>0.01])"
   ]
  },
  {
   "cell_type": "markdown",
   "metadata": {},
   "source": [
    "The 'ad crawled' column tells us when an ad has been visited.\n",
    "We have 114 unique days in our dataset and we can see, from the plot, \n",
    "that the traffic gets higher after a certain date.\n",
    "The day is March the 5th, 2016.\n",
    "\n",
    "Nothing special in that day, simply after that the traffic is constantly higher."
   ]
  },
  {
   "cell_type": "markdown",
   "metadata": {},
   "source": [
    "About a half of the ads has been created different from the other ads' creation day."
   ]
  },
  {
   "cell_type": "code",
   "execution_count": 64,
   "metadata": {},
   "outputs": [
    {
     "name": "stdout",
     "output_type": "stream",
     "text": [
      "count         357964\n",
      "unique            34\n",
      "top       2016-04-06\n",
      "freq           78393\n",
      "Name: last_seen, dtype: object\n",
      "2016-03-05    0.001268\n",
      "2016-03-06    0.004087\n",
      "2016-03-07    0.005193\n",
      "2016-03-08    0.007909\n",
      "2016-03-09    0.009797\n",
      "2016-03-10    0.011456\n",
      "2016-03-11    0.012957\n",
      "2016-03-12    0.023245\n",
      "2016-03-13    0.008420\n",
      "2016-03-14    0.012177\n",
      "2016-03-15    0.016292\n",
      "2016-03-16    0.016449\n",
      "2016-03-17    0.028738\n",
      "2016-03-18    0.006892\n",
      "2016-03-19    0.016334\n",
      "2016-03-20    0.019885\n",
      "2016-03-21    0.020030\n",
      "2016-03-22    0.020483\n",
      "2016-03-23    0.018010\n",
      "2016-03-24    0.019178\n",
      "2016-03-25    0.018963\n",
      "2016-03-26    0.015940\n",
      "2016-03-27    0.016664\n",
      "2016-03-28    0.022198\n",
      "2016-03-29    0.023282\n",
      "2016-03-30    0.023692\n",
      "2016-03-31    0.024257\n",
      "2016-04-01    0.023935\n",
      "2016-04-02    0.024972\n",
      "2016-04-03    0.025355\n",
      "2016-04-04    0.025531\n",
      "2016-04-05    0.126974\n",
      "2016-04-06    0.218997\n",
      "2016-04-07    0.130443\n",
      "Name: last_seen, dtype: float64\n"
     ]
    },
    {
     "data": {
      "image/png": "[encoded data removed]",
      "text/plain": [
       "<Figure size 432x288 with 1 Axes>"
      ]
     },
     "metadata": {},
     "output_type": "display_data"
    }
   ],
   "source": [
    "print(autos['last_seen'].describe())\n",
    "print(autos['last_seen'].value_counts(normalize=True, dropna=False).sort_index())\n",
    "fig = plt.figure(figsize=(6,4))\n",
    "C = autos['last_seen'].value_counts(normalize=True, dropna=False).sort_index()\n",
    "ax = fig.add_subplot(111)\n",
    "ax.plot(C)\n",
    "# Turn off tick labels\n",
    "ax.set_yticklabels([])\n",
    "ax.set_xticklabels([])\n",
    "ax.get_xaxis().set_visible(False)\n",
    "ax.get_yaxis().set_visible(False)\n",
    "plt.axis('off')\n",
    "ax.set_title(\"Last Seen\")\n",
    "plt.show()"
   ]
  },
  {
   "cell_type": "code",
   "execution_count": 65,
   "metadata": {},
   "outputs": [
    {
     "data": {
      "text/plain": [
       "count    357964.000000\n",
       "mean       2003.487529\n",
       "std           7.508159\n",
       "min        1923.000000\n",
       "25%        1999.000000\n",
       "50%        2004.000000\n",
       "75%        2008.000000\n",
       "max        2018.000000\n",
       "Name: registration_year, dtype: float64"
      ]
     },
     "execution_count": 65,
     "metadata": {},
     "output_type": "execute_result"
    }
   ],
   "source": [
    "autos['registration_year'].describe()"
   ]
  },
  {
   "cell_type": "markdown",
   "metadata": {},
   "source": [
    "The outliers have clearly no sense.\n",
    "No cars can have been produced in the year 1000, or in the year 9999.\n",
    "\n",
    "In 1913, the Ford Model T, created by the Ford Motor Company five years prior, \n",
    "became the first automobile to be mass-produced on a moving assembly line. \n",
    "\n",
    "Even though it would be weird to find the first year's Ford T on the German Ebay,\n",
    "we decide to limit our values between that year, 1913\n",
    "to the current year, 2018."
   ]
  },
  {
   "cell_type": "code",
   "execution_count": 66,
   "metadata": {},
   "outputs": [
    {
     "data": {
      "text/plain": [
       "count    357964.000000\n",
       "mean       2003.487529\n",
       "std           7.508159\n",
       "min        1923.000000\n",
       "25%        1999.000000\n",
       "50%        2004.000000\n",
       "75%        2008.000000\n",
       "max        2018.000000\n",
       "Name: registration_year, dtype: float64"
      ]
     },
     "execution_count": 66,
     "metadata": {},
     "output_type": "execute_result"
    }
   ],
   "source": [
    "autos = autos[autos[\"registration_year\"].between(1913,2018)]\n",
    "autos['registration_year'].describe()"
   ]
  },
  {
   "cell_type": "markdown",
   "metadata": {},
   "source": [
    "99.99% it is a simple mistyping, but we keep it.\n",
    "Our data will not be affected by these few outliers."
   ]
  },
  {
   "cell_type": "code",
   "execution_count": 67,
   "metadata": {},
   "outputs": [
    {
     "data": {
      "text/plain": [
       "1923    0.000008\n",
       "1925    0.000003\n",
       "1927    0.000006\n",
       "1928    0.000006\n",
       "1929    0.000020\n",
       "1930    0.000011\n",
       "1931    0.000011\n",
       "1932    0.000011\n",
       "1933    0.000014\n",
       "1934    0.000011\n",
       "1935    0.000014\n",
       "1936    0.000020\n",
       "1937    0.000034\n",
       "1938    0.000022\n",
       "1939    0.000011\n",
       "1940    0.000006\n",
       "1941    0.000011\n",
       "1942    0.000006\n",
       "1943    0.000014\n",
       "1944    0.000006\n",
       "1945    0.000014\n",
       "1946    0.000006\n",
       "1947    0.000014\n",
       "1948    0.000008\n",
       "1949    0.000008\n",
       "1950    0.000050\n",
       "1951    0.000047\n",
       "1952    0.000031\n",
       "1953    0.000047\n",
       "1954    0.000039\n",
       "          ...   \n",
       "1989    0.003481\n",
       "1990    0.006769\n",
       "1991    0.007358\n",
       "1992    0.008015\n",
       "1993    0.009046\n",
       "1994    0.012831\n",
       "1995    0.024449\n",
       "1996    0.028771\n",
       "1997    0.038794\n",
       "1998    0.047709\n",
       "1999    0.061129\n",
       "2000    0.063456\n",
       "2001    0.054936\n",
       "2002    0.052433\n",
       "2003    0.054642\n",
       "2004    0.054296\n",
       "2005    0.060243\n",
       "2006    0.055779\n",
       "2007    0.048790\n",
       "2008    0.044708\n",
       "2009    0.043228\n",
       "2010    0.034213\n",
       "2011    0.033447\n",
       "2012    0.026106\n",
       "2013    0.017052\n",
       "2014    0.013292\n",
       "2015    0.007951\n",
       "2016    0.025430\n",
       "2017    0.027754\n",
       "2018    0.010610\n",
       "Name: registration_year, Length: 94, dtype: float64"
      ]
     },
     "execution_count": 67,
     "metadata": {},
     "output_type": "execute_result"
    }
   ],
   "source": [
    "autos['registration_year'].value_counts(normalize=True).sort_index()"
   ]
  },
  {
   "cell_type": "code",
   "execution_count": 68,
   "metadata": {},
   "outputs": [
    {
     "data": {
      "text/plain": [
       "2000    0.063456\n",
       "1999    0.061129\n",
       "2005    0.060243\n",
       "2006    0.055779\n",
       "2001    0.054936\n",
       "2003    0.054642\n",
       "2004    0.054296\n",
       "2002    0.052433\n",
       "2007    0.048790\n",
       "1998    0.047709\n",
       "2008    0.044708\n",
       "2009    0.043228\n",
       "1997    0.038794\n",
       "2010    0.034213\n",
       "2011    0.033447\n",
       "1996    0.028771\n",
       "2017    0.027754\n",
       "2012    0.026106\n",
       "2016    0.025430\n",
       "1995    0.024449\n",
       "2013    0.017052\n",
       "2014    0.013292\n",
       "1994    0.012831\n",
       "2018    0.010610\n",
       "1993    0.009046\n",
       "1992    0.008015\n",
       "2015    0.007951\n",
       "1991    0.007358\n",
       "1990    0.006769\n",
       "1989    0.003481\n",
       "          ...   \n",
       "1950    0.000050\n",
       "1951    0.000047\n",
       "1953    0.000047\n",
       "1954    0.000039\n",
       "1937    0.000034\n",
       "1952    0.000031\n",
       "1938    0.000022\n",
       "1929    0.000020\n",
       "1936    0.000020\n",
       "1933    0.000014\n",
       "1943    0.000014\n",
       "1945    0.000014\n",
       "1947    0.000014\n",
       "1935    0.000014\n",
       "1932    0.000011\n",
       "1931    0.000011\n",
       "1930    0.000011\n",
       "1939    0.000011\n",
       "1934    0.000011\n",
       "1941    0.000011\n",
       "1948    0.000008\n",
       "1949    0.000008\n",
       "1923    0.000008\n",
       "1928    0.000006\n",
       "1944    0.000006\n",
       "1946    0.000006\n",
       "1927    0.000006\n",
       "1942    0.000006\n",
       "1940    0.000006\n",
       "1925    0.000003\n",
       "Name: registration_year, Length: 94, dtype: float64"
      ]
     },
     "execution_count": 68,
     "metadata": {},
     "output_type": "execute_result"
    }
   ],
   "source": [
    "autos['registration_year'].value_counts(normalize=True).sort_values(ascending=False)"
   ]
  },
  {
   "cell_type": "code",
   "execution_count": 69,
   "metadata": {},
   "outputs": [
    {
     "data": {
      "image/png": "[encoded data removed]",
      "text/plain": [
       "<Figure size 432x288 with 1 Axes>"
      ]
     },
     "metadata": {},
     "output_type": "display_data"
    }
   ],
   "source": [
    "fig = plt.figure(figsize=(6,4))\n",
    "D1 = autos['registration_year'].value_counts().sort_index()\n",
    "ax = fig.add_subplot(111)\n",
    "ax.plot(D1)\n",
    "# Turn off tick labels\n",
    "#ax.set_yticklabels([])\n",
    "#ax.set_xticklabels([])\n",
    "ax.set_title(\"Car's Year\")\n",
    "plt.show()"
   ]
  },
  {
   "cell_type": "markdown",
   "metadata": {},
   "source": [
    "There are two peaks in this curve: \n",
    "    the higher from 1999 and 2000,\n",
    "    the other one from 2005 to 2006.\n",
    "\n",
    "Interesting that 2016 and 2017 have more ads than the years from 2013 and 2015.\n",
    "\n",
    "In general, this German Ebay is stronger for cars with more than 10 years.\n",
    "The 'first' year of the last decade is 2009, which is 12th.\n",
    "\n",
    "It seems correct to assume that this is a characteristic of worldwide Ebay.\n",
    "\n",
    "Is there anything that could be done regarding this issue?"
   ]
  },
  {
   "cell_type": "code",
   "execution_count": 70,
   "metadata": {},
   "outputs": [
    {
     "name": "stdout",
     "output_type": "stream",
     "text": [
      "volkswagen        0.213711\n",
      "bmw               0.108653\n",
      "opel              0.107162\n",
      "mercedes_benz     0.096216\n",
      "audi              0.088894\n",
      "ford              0.068686\n",
      "renault           0.048251\n",
      "peugeot           0.029983\n",
      "fiat              0.025947\n",
      "seat              0.018982\n",
      "skoda             0.015538\n",
      "mazda             0.015404\n",
      "smart             0.014393\n",
      "citroen           0.014010\n",
      "nissan            0.013610\n",
      "toyota            0.012887\n",
      "hyundai           0.009984\n",
      "mini              0.009361\n",
      "sonstige_autos    0.009104\n",
      "volvo             0.009001\n",
      "mitsubishi        0.008224\n",
      "honda             0.007599\n",
      "kia               0.006945\n",
      "suzuki            0.006319\n",
      "alfa_romeo        0.006252\n",
      "porsche           0.006026\n",
      "chevrolet         0.004992\n",
      "chrysler          0.003816\n",
      "dacia             0.002481\n",
      "jeep              0.002182\n",
      "daihatsu          0.002126\n",
      "land_rover        0.002118\n",
      "subaru            0.002059\n",
      "jaguar            0.001682\n",
      "daewoo            0.001475\n",
      "saab              0.001441\n",
      "trabant           0.001319\n",
      "lancia            0.001291\n",
      "rover             0.001285\n",
      "lada              0.000592\n",
      "Name: brand, dtype: float64\n"
     ]
    }
   ],
   "source": [
    "Brands = autos['brand'].value_counts(normalize=True).sort_values(ascending=False)\n",
    "print(Brands)"
   ]
  },
  {
   "cell_type": "markdown",
   "metadata": {},
   "source": [
    "The first five brands are German:\n",
    "    Volkswagen, Bmw, Opel, Mercedes-Benz, Audi.\n",
    "From sixth to tenth place we have an American brand and four European ones:\n",
    "    Ford, Renault, Peugeot, Fiat, Seat.\n",
    "    \n",
    "Interesting the absence of Asian cars in this list.\n",
    "The first one is the Japanese Mazda, 12th.\n",
    "\n",
    "Checking the best-selling Car Manufacturers in 2017, in Germany, we can see that\n",
    "the first 6 are the same, with Ford slightly ahead of Opel now.\n",
    "In the first ten, as number 9, we have Hyundai.\n",
    "As 7th: Skoda.\n",
    "\n",
    "Fiat and Peugeot are out of the first ten.\n",
    "\n",
    "So, we may conclude that Ebay has no specific brands' prevalence."
   ]
  },
  {
   "cell_type": "code",
   "execution_count": 71,
   "metadata": {},
   "outputs": [
    {
     "data": {
      "image/png": "[encoded data removed]",
      "text/plain": [
       "<Figure size 864x432 with 1 Axes>"
      ]
     },
     "metadata": {},
     "output_type": "display_data"
    }
   ],
   "source": [
    "fig = plt.figure(figsize=(12,6))\n",
    "top_brands = Brands[:10]\n",
    "top_brands_price = {}\n",
    "ax = fig.add_subplot(111)\n",
    "for b in top_brands.index:\n",
    "    top_brands_price[b] = autos[autos['brand'] == b]['price_$'].mean()\n",
    "ax.bar(range(len(top_brands_price)), list(top_brands_price.values()), align='center')\n",
    "ax.set_xticks(np.arange(len(top_brands_price)))\n",
    "labels = ax.set_xticklabels(labels = list(top_brands_price.keys()),\n",
    "                            rotation = 45,\n",
    "                            fontdict = {'fontsize': 12})\n",
    "ax.set_yticklabels(labels = ['0', '2000', '4000', '6000', '8000'],\n",
    "                            fontdict = {'fontsize': 12})\n",
    "plt.xlabel('Brand',\n",
    "           fontdict = {'fontsize': 14})\n",
    "plt.ylabel('Average Price',\n",
    "           fontdict = {'fontsize': 14})\n",
    "plt.title(\"Top Brands Price\",\n",
    "           fontdict = {'fontsize': 16})\n",
    "plt.show()"
   ]
  },
  {
   "cell_type": "markdown",
   "metadata": {},
   "source": [
    "As we could have imagined, German cars are strong in the luxury segment:\n",
    "    Bmw, Mercede-Benz and Audi are offered at avg. prices higher than 8000$.\n",
    "\n",
    "Volkswagen and Seat stay in the middle, with avg. prices between 4000$ & 6000$.\n",
    "\n",
    "Ford, Peugeot, Opel, Fiat, Renault are sold at a avg. price lower than 4000$."
   ]
  },
  {
   "cell_type": "markdown",
   "metadata": {},
   "source": [
    "Let's explore now if there is any difference in the mileage of the cars,\n",
    "in relationship with their brand."
   ]
  },
  {
   "cell_type": "code",
   "execution_count": 72,
   "metadata": {},
   "outputs": [
    {
     "data": {
      "image/png": "[encoded data removed]",
      "text/plain": [
       "<Figure size 864x432 with 1 Axes>"
      ]
     },
     "metadata": {},
     "output_type": "display_data"
    }
   ],
   "source": [
    "fig = plt.figure(figsize=(12,6))\n",
    "top_brands_mileage = {}\n",
    "ax = fig.add_subplot(111)\n",
    "for b in top_brands.index:\n",
    "    top_brands_mileage[b] = autos[autos['brand'] == b]['odometer_km'].mean()\n",
    "ax.bar(range(len(top_brands_mileage)), list(top_brands_mileage.values()), align='center')\n",
    "ax.set_xticks(np.arange(len(top_brands_mileage)))\n",
    "labels = ax.set_xticklabels(labels = list(top_brands_mileage.keys()),\n",
    "                            rotation = 45,\n",
    "                            fontdict = {'fontsize': 12})\n",
    "plt.xlabel('Brand',\n",
    "           fontdict = {'fontsize': 14})\n",
    "plt.ylabel('Average Mileage',\n",
    "           fontdict = {'fontsize': 14})\n",
    "plt.title(\"Top Brands Mileage\",\n",
    "           fontdict = {'fontsize': 16})\n",
    "plt.show()"
   ]
  },
  {
   "cell_type": "markdown",
   "metadata": {},
   "source": [
    "This price difference has no effect on the mileage."
   ]
  },
  {
   "cell_type": "code",
   "execution_count": 73,
   "metadata": {},
   "outputs": [
    {
     "data": {
      "text/html": [
       "<div>\n",
       "<style scoped>\n",
       "    .dataframe tbody tr th:only-of-type {\n",
       "        vertical-align: middle;\n",
       "    }\n",
       "\n",
       "    .dataframe tbody tr th {\n",
       "        vertical-align: top;\n",
       "    }\n",
       "\n",
       "    .dataframe thead th {\n",
       "        text-align: right;\n",
       "    }\n",
       "</style>\n",
       "<table border=\"1\" class=\"dataframe\">\n",
       "  <thead>\n",
       "    <tr style=\"text-align: right;\">\n",
       "      <th></th>\n",
       "      <th>avg. price</th>\n",
       "      <th>avg. mileage</th>\n",
       "    </tr>\n",
       "  </thead>\n",
       "  <tbody>\n",
       "    <tr>\n",
       "      <th>volkswagen</th>\n",
       "      <td>5403.148194</td>\n",
       "      <td>128779.362361</td>\n",
       "    </tr>\n",
       "    <tr>\n",
       "      <th>bmw</th>\n",
       "      <td>8505.738880</td>\n",
       "      <td>133138.273256</td>\n",
       "    </tr>\n",
       "    <tr>\n",
       "      <th>opel</th>\n",
       "      <td>2993.531543</td>\n",
       "      <td>129011.339937</td>\n",
       "    </tr>\n",
       "    <tr>\n",
       "      <th>mercedes_benz</th>\n",
       "      <td>8558.227542</td>\n",
       "      <td>130871.610243</td>\n",
       "    </tr>\n",
       "    <tr>\n",
       "      <th>audi</th>\n",
       "      <td>9087.566733</td>\n",
       "      <td>129828.100940</td>\n",
       "    </tr>\n",
       "    <tr>\n",
       "      <th>ford</th>\n",
       "      <td>3779.448489</td>\n",
       "      <td>123964.493431</td>\n",
       "    </tr>\n",
       "    <tr>\n",
       "      <th>renault</th>\n",
       "      <td>2427.619558</td>\n",
       "      <td>128105.604447</td>\n",
       "    </tr>\n",
       "    <tr>\n",
       "      <th>peugeot</th>\n",
       "      <td>3253.229013</td>\n",
       "      <td>124874.685549</td>\n",
       "    </tr>\n",
       "    <tr>\n",
       "      <th>fiat</th>\n",
       "      <td>2887.747093</td>\n",
       "      <td>117043.496985</td>\n",
       "    </tr>\n",
       "    <tr>\n",
       "      <th>seat</th>\n",
       "      <td>4498.249742</td>\n",
       "      <td>121210.448859</td>\n",
       "    </tr>\n",
       "  </tbody>\n",
       "</table>\n",
       "</div>"
      ],
      "text/plain": [
       "                avg. price   avg. mileage\n",
       "volkswagen     5403.148194  128779.362361\n",
       "bmw            8505.738880  133138.273256\n",
       "opel           2993.531543  129011.339937\n",
       "mercedes_benz  8558.227542  130871.610243\n",
       "audi           9087.566733  129828.100940\n",
       "ford           3779.448489  123964.493431\n",
       "renault        2427.619558  128105.604447\n",
       "peugeot        3253.229013  124874.685549\n",
       "fiat           2887.747093  117043.496985\n",
       "seat           4498.249742  121210.448859"
      ]
     },
     "execution_count": 73,
     "metadata": {},
     "output_type": "execute_result"
    }
   ],
   "source": [
    "top_brands_price_series = pd.Series(top_brands_price)\n",
    "top_brands_mileage_series = pd.Series(top_brands_mileage)\n",
    "top_brands_df = pd.Series.to_frame(top_brands_price_series)\n",
    "top_brands_df[1] = top_brands_mileage_series\n",
    "top_brands_df.columns = ['avg. price', 'avg. mileage']\n",
    "top_brands_df"
   ]
  },
  {
   "cell_type": "markdown",
   "metadata": {},
   "source": [
    "Let's change some german words here and there in this dataset:"
   ]
  },
  {
   "cell_type": "code",
   "execution_count": 74,
   "metadata": {},
   "outputs": [
    {
     "data": {
      "text/html": [
       "<div>\n",
       "<style scoped>\n",
       "    .dataframe tbody tr th:only-of-type {\n",
       "        vertical-align: middle;\n",
       "    }\n",
       "\n",
       "    .dataframe tbody tr th {\n",
       "        vertical-align: top;\n",
       "    }\n",
       "\n",
       "    .dataframe thead th {\n",
       "        text-align: right;\n",
       "    }\n",
       "</style>\n",
       "<table border=\"1\" class=\"dataframe\">\n",
       "  <thead>\n",
       "    <tr style=\"text-align: right;\">\n",
       "      <th></th>\n",
       "      <th>date_crawled</th>\n",
       "      <th>name</th>\n",
       "      <th>seller</th>\n",
       "      <th>offer_type</th>\n",
       "      <th>price_$</th>\n",
       "      <th>abtest</th>\n",
       "      <th>vehicle_type</th>\n",
       "      <th>registration_year</th>\n",
       "      <th>gearbox</th>\n",
       "      <th>powerPS</th>\n",
       "      <th>model</th>\n",
       "      <th>odometer_km</th>\n",
       "      <th>registration_month</th>\n",
       "      <th>fuel_type</th>\n",
       "      <th>brand</th>\n",
       "      <th>unrepaired_damage</th>\n",
       "      <th>ad_created</th>\n",
       "      <th>nr_of_pictures</th>\n",
       "      <th>postal_code</th>\n",
       "      <th>last_seen</th>\n",
       "    </tr>\n",
       "  </thead>\n",
       "  <tbody>\n",
       "    <tr>\n",
       "      <th>0</th>\n",
       "      <td>2016-03-24</td>\n",
       "      <td>Golf_3_1.6</td>\n",
       "      <td>private</td>\n",
       "      <td>offer</td>\n",
       "      <td>480</td>\n",
       "      <td>test</td>\n",
       "      <td>NaN</td>\n",
       "      <td>1993</td>\n",
       "      <td>manual</td>\n",
       "      <td>0</td>\n",
       "      <td>golf</td>\n",
       "      <td>150000</td>\n",
       "      <td>0</td>\n",
       "      <td>petrol</td>\n",
       "      <td>volkswagen</td>\n",
       "      <td>NaN</td>\n",
       "      <td>2016-03-24</td>\n",
       "      <td>0</td>\n",
       "      <td>70435</td>\n",
       "      <td>2016-04-07</td>\n",
       "    </tr>\n",
       "    <tr>\n",
       "      <th>1</th>\n",
       "      <td>2016-03-24</td>\n",
       "      <td>A5_Sportback_2.7_Tdi</td>\n",
       "      <td>private</td>\n",
       "      <td>offer</td>\n",
       "      <td>18300</td>\n",
       "      <td>test</td>\n",
       "      <td>coupe</td>\n",
       "      <td>2011</td>\n",
       "      <td>manual</td>\n",
       "      <td>190</td>\n",
       "      <td>NaN</td>\n",
       "      <td>125000</td>\n",
       "      <td>5</td>\n",
       "      <td>diesel</td>\n",
       "      <td>audi</td>\n",
       "      <td>yes</td>\n",
       "      <td>2016-03-24</td>\n",
       "      <td>0</td>\n",
       "      <td>66954</td>\n",
       "      <td>2016-04-07</td>\n",
       "    </tr>\n",
       "    <tr>\n",
       "      <th>2</th>\n",
       "      <td>2016-03-14</td>\n",
       "      <td>Jeep_Grand_Cherokee_\"Overland\"</td>\n",
       "      <td>private</td>\n",
       "      <td>offer</td>\n",
       "      <td>9800</td>\n",
       "      <td>test</td>\n",
       "      <td>suv</td>\n",
       "      <td>2004</td>\n",
       "      <td>automatic</td>\n",
       "      <td>163</td>\n",
       "      <td>grand</td>\n",
       "      <td>125000</td>\n",
       "      <td>8</td>\n",
       "      <td>diesel</td>\n",
       "      <td>jeep</td>\n",
       "      <td>NaN</td>\n",
       "      <td>2016-03-14</td>\n",
       "      <td>0</td>\n",
       "      <td>90480</td>\n",
       "      <td>2016-04-05</td>\n",
       "    </tr>\n",
       "    <tr>\n",
       "      <th>3</th>\n",
       "      <td>2016-03-17</td>\n",
       "      <td>GOLF_4_1_4__3TÜRER</td>\n",
       "      <td>private</td>\n",
       "      <td>offer</td>\n",
       "      <td>1500</td>\n",
       "      <td>test</td>\n",
       "      <td>kleinwagen</td>\n",
       "      <td>2001</td>\n",
       "      <td>manual</td>\n",
       "      <td>75</td>\n",
       "      <td>golf</td>\n",
       "      <td>150000</td>\n",
       "      <td>6</td>\n",
       "      <td>petrol</td>\n",
       "      <td>volkswagen</td>\n",
       "      <td>no</td>\n",
       "      <td>2016-03-17</td>\n",
       "      <td>0</td>\n",
       "      <td>91074</td>\n",
       "      <td>2016-03-17</td>\n",
       "    </tr>\n",
       "    <tr>\n",
       "      <th>4</th>\n",
       "      <td>2016-03-31</td>\n",
       "      <td>Skoda_Fabia_1.4_TDI_PD_Classic</td>\n",
       "      <td>private</td>\n",
       "      <td>offer</td>\n",
       "      <td>3600</td>\n",
       "      <td>test</td>\n",
       "      <td>kleinwagen</td>\n",
       "      <td>2008</td>\n",
       "      <td>manual</td>\n",
       "      <td>69</td>\n",
       "      <td>fabia</td>\n",
       "      <td>90000</td>\n",
       "      <td>7</td>\n",
       "      <td>diesel</td>\n",
       "      <td>skoda</td>\n",
       "      <td>no</td>\n",
       "      <td>2016-03-31</td>\n",
       "      <td>0</td>\n",
       "      <td>60437</td>\n",
       "      <td>2016-04-06</td>\n",
       "    </tr>\n",
       "  </tbody>\n",
       "</table>\n",
       "</div>"
      ],
      "text/plain": [
       "  date_crawled                            name   seller offer_type  price_$  \\\n",
       "0   2016-03-24                      Golf_3_1.6  private      offer      480   \n",
       "1   2016-03-24            A5_Sportback_2.7_Tdi  private      offer    18300   \n",
       "2   2016-03-14  Jeep_Grand_Cherokee_\"Overland\"  private      offer     9800   \n",
       "3   2016-03-17              GOLF_4_1_4__3TÜRER  private      offer     1500   \n",
       "4   2016-03-31  Skoda_Fabia_1.4_TDI_PD_Classic  private      offer     3600   \n",
       "\n",
       "  abtest vehicle_type  registration_year    gearbox  powerPS  model  \\\n",
       "0   test          NaN               1993     manual        0   golf   \n",
       "1   test        coupe               2011     manual      190    NaN   \n",
       "2   test          suv               2004  automatic      163  grand   \n",
       "3   test   kleinwagen               2001     manual       75   golf   \n",
       "4   test   kleinwagen               2008     manual       69  fabia   \n",
       "\n",
       "   odometer_km  registration_month fuel_type       brand unrepaired_damage  \\\n",
       "0       150000                   0    petrol  volkswagen               NaN   \n",
       "1       125000                   5    diesel        audi               yes   \n",
       "2       125000                   8    diesel        jeep               NaN   \n",
       "3       150000                   6    petrol  volkswagen                no   \n",
       "4        90000                   7    diesel       skoda                no   \n",
       "\n",
       "   ad_created  nr_of_pictures  postal_code   last_seen  \n",
       "0  2016-03-24               0        70435  2016-04-07  \n",
       "1  2016-03-24               0        66954  2016-04-07  \n",
       "2  2016-03-14               0        90480  2016-04-05  \n",
       "3  2016-03-17               0        91074  2016-03-17  \n",
       "4  2016-03-31               0        60437  2016-04-06  "
      ]
     },
     "execution_count": 74,
     "metadata": {},
     "output_type": "execute_result"
    }
   ],
   "source": [
    "autos['gearbox'] = autos['gearbox'].replace('automatik', 'automatic')\n",
    "autos['gearbox'] = autos['gearbox'].replace('manuell', 'manual')\n",
    "autos['unrepaired_damage'] = autos['unrepaired_damage'].replace('nein', 'no')\n",
    "autos['unrepaired_damage'] = autos['unrepaired_damage'].replace('ja', 'yes')\n",
    "autos['fuel_type'] = autos['fuel_type'].replace('benzin', 'petrol')\n",
    "autos['seller'] = autos['seller'].replace('privat', 'private')\n",
    "autos['seller'] = autos['seller'].replace('gewerblich', 'commercial')\n",
    "autos['offer_type'] = autos['offer_type'].replace('Angebot', 'offer')\n",
    "autos['offer_type'] = autos['offer_type'].replace('Gesuch', 'request')\n",
    "autos.head()"
   ]
  },
  {
   "cell_type": "markdown",
   "metadata": {},
   "source": [
    "Now let's check which are the models more present:"
   ]
  },
  {
   "cell_type": "code",
   "execution_count": 75,
   "metadata": {},
   "outputs": [
    {
     "data": {
      "text/plain": [
       "brand          model   \n",
       "volkswagen     golf        28903\n",
       "bmw            3er         19873\n",
       "volkswagen     polo        12529\n",
       "opel           corsa       12036\n",
       "               astra       10424\n",
       "audi           a4           9954\n",
       "volkswagen     passat       9948\n",
       "mercedes_benz  c_klasse     8620\n",
       "bmw            5er          8288\n",
       "mercedes_benz  e_klasse     7368\n",
       "dtype: int64"
      ]
     },
     "execution_count": 75,
     "metadata": {},
     "output_type": "execute_result"
    }
   ],
   "source": [
    "brand_model = autos.groupby([\"brand\", \"model\"]).size().sort_values(ascending=False)\n",
    "top_brand_model = brand_model[:10]\n",
    "top_brand_model"
   ]
  },
  {
   "cell_type": "markdown",
   "metadata": {},
   "source": [
    "Looking at the first 10 models, we get 3 Volkswagen, 2 Bmw, Mercedes and Opel and 1 Audi. "
   ]
  },
  {
   "cell_type": "code",
   "execution_count": 76,
   "metadata": {},
   "outputs": [
    {
     "name": "stdout",
     "output_type": "stream",
     "text": [
      "The number of ads involving cars with less than 50.000 km is 24900\n",
      "The number of ads involving cars with more than (included the exact value of) 50.000 km and less than 100.000 km is 48943\n",
      "The number of ads involving cars with more than (included the exact value of) 100.000 km and less than 150.000 km is 52599\n",
      "The number of ads involving cars with the exact value of 150.000 km is 231522\n"
     ]
    }
   ],
   "source": [
    "df1 = autos[autos['odometer_km'] < 50000]\n",
    "df2 = autos[(autos['odometer_km'] >= 50000) &  (autos['odometer_km']<100000)]\n",
    "df3 = autos[(autos['odometer_km']>= 100000) & (autos['odometer_km'] < 150000)]\n",
    "df4 = autos[(autos['odometer_km'] == 150000)]\n",
    "\n",
    "print(\"The number of ads involving cars with less than 50.000 km is \" + str(len(df1)))\n",
    "print(\"The number of ads involving cars with more than (included the exact value of) 50.000 km and less than 100.000 km is \" + str(len(df2)))\n",
    "print(\"The number of ads involving cars with more than (included the exact value of) 100.000 km and less than 150.000 km is \" + str(len(df3)))\n",
    "print(\"The number of ads involving cars with the exact value of 150.000 km is \" + str(len(df4)))"
   ]
  },
  {
   "cell_type": "markdown",
   "metadata": {},
   "source": [
    "More than 60% of the ads are regarding cars with the exact value of 150.000 km.\n",
    "We should probably interpret this as 'higher than' 150.000 km."
   ]
  },
  {
   "cell_type": "code",
   "execution_count": 77,
   "metadata": {},
   "outputs": [
    {
     "data": {
      "text/plain": [
       "unrepaired_damage\n",
       "no     7167.760645\n",
       "yes    2349.558773\n",
       "Name: price_$, dtype: float64"
      ]
     },
     "execution_count": 77,
     "metadata": {},
     "output_type": "execute_result"
    }
   ],
   "source": [
    "damaged_or_not_damaged = autos.groupby(\"unrepaired_damage\").mean()\n",
    "damaged_or_not_damaged['price_$']"
   ]
  },
  {
   "cell_type": "markdown",
   "metadata": {},
   "source": [
    "An undamaged car is sold at a price in average three times of a damaged one."
   ]
  },
  {
   "cell_type": "code",
   "execution_count": 78,
   "metadata": {},
   "outputs": [
    {
     "data": {
      "text/plain": [
       "seller\n",
       "commercial    2700.0000\n",
       "private       6035.2996\n",
       "Name: price_$, dtype: float64"
      ]
     },
     "execution_count": 78,
     "metadata": {},
     "output_type": "execute_result"
    }
   ],
   "source": [
    "seller = autos.groupby(\"seller\").mean()\n",
    "seller['price_$']"
   ]
  },
  {
   "cell_type": "markdown",
   "metadata": {},
   "source": [
    "Apparently, private sellers sell at a higher price.\n",
    "Let's see if we can get other information from the seller variable just built:"
   ]
  },
  {
   "cell_type": "code",
   "execution_count": 79,
   "metadata": {},
   "outputs": [
    {
     "data": {
      "text/html": [
       "<div>\n",
       "<style scoped>\n",
       "    .dataframe tbody tr th:only-of-type {\n",
       "        vertical-align: middle;\n",
       "    }\n",
       "\n",
       "    .dataframe tbody tr th {\n",
       "        vertical-align: top;\n",
       "    }\n",
       "\n",
       "    .dataframe thead th {\n",
       "        text-align: right;\n",
       "    }\n",
       "</style>\n",
       "<table border=\"1\" class=\"dataframe\">\n",
       "  <thead>\n",
       "    <tr style=\"text-align: right;\">\n",
       "      <th></th>\n",
       "      <th>price_$</th>\n",
       "      <th>registration_year</th>\n",
       "      <th>powerPS</th>\n",
       "      <th>odometer_km</th>\n",
       "      <th>registration_month</th>\n",
       "      <th>nr_of_pictures</th>\n",
       "      <th>postal_code</th>\n",
       "    </tr>\n",
       "    <tr>\n",
       "      <th>seller</th>\n",
       "      <th></th>\n",
       "      <th></th>\n",
       "      <th></th>\n",
       "      <th></th>\n",
       "      <th></th>\n",
       "      <th></th>\n",
       "      <th></th>\n",
       "    </tr>\n",
       "  </thead>\n",
       "  <tbody>\n",
       "    <tr>\n",
       "      <th>commercial</th>\n",
       "      <td>2700.0000</td>\n",
       "      <td>1991.000000</td>\n",
       "      <td>46.333333</td>\n",
       "      <td>123333.333333</td>\n",
       "      <td>8.666667</td>\n",
       "      <td>0.0</td>\n",
       "      <td>48939.666667</td>\n",
       "    </tr>\n",
       "    <tr>\n",
       "      <th>private</th>\n",
       "      <td>6035.2996</td>\n",
       "      <td>2003.487634</td>\n",
       "      <td>117.000785</td>\n",
       "      <td>125846.572671</td>\n",
       "      <td>5.818123</td>\n",
       "      <td>0.0</td>\n",
       "      <td>51013.678753</td>\n",
       "    </tr>\n",
       "  </tbody>\n",
       "</table>\n",
       "</div>"
      ],
      "text/plain": [
       "              price_$  registration_year     powerPS    odometer_km  \\\n",
       "seller                                                                \n",
       "commercial  2700.0000        1991.000000   46.333333  123333.333333   \n",
       "private     6035.2996        2003.487634  117.000785  125846.572671   \n",
       "\n",
       "            registration_month  nr_of_pictures   postal_code  \n",
       "seller                                                        \n",
       "commercial            8.666667             0.0  48939.666667  \n",
       "private               5.818123             0.0  51013.678753  "
      ]
     },
     "execution_count": 79,
     "metadata": {},
     "output_type": "execute_result"
    }
   ],
   "source": [
    "seller"
   ]
  },
  {
   "cell_type": "markdown",
   "metadata": {},
   "source": [
    "There is a huge difference, 12 years, in the registration year.\n",
    "Private seller in Germany sell through Ebay oldest cars!"
   ]
  },
  {
   "cell_type": "code",
   "execution_count": 80,
   "metadata": {},
   "outputs": [
    {
     "data": {
      "text/plain": [
       "fuel_type\n",
       "andere      4271.179487\n",
       "cng         4800.157324\n",
       "diesel      8620.546959\n",
       "elektro    18858.207921\n",
       "hybrid     14945.634686\n",
       "lpg         4442.139410\n",
       "petrol      5113.055007\n",
       "Name: price_$, dtype: float64"
      ]
     },
     "execution_count": 80,
     "metadata": {},
     "output_type": "execute_result"
    }
   ],
   "source": [
    "fuel_type = autos.groupby(\"fuel_type\").mean()\n",
    "fuel_type['price_$']"
   ]
  },
  {
   "cell_type": "markdown",
   "metadata": {},
   "source": [
    "Petrol cars are sold at an average price of around 5.000 dollars.\n",
    "Diesel at more than 8.500 dollars.\n",
    "Hybrid at almost 15.000 dollars and electronic at alm almost 19.000 dollars.\n",
    "Everything as expected."
   ]
  },
  {
   "cell_type": "code",
   "execution_count": 81,
   "metadata": {},
   "outputs": [
    {
     "data": {
      "text/plain": [
       "offer_type\n",
       "offer      357958\n",
       "request         6\n",
       "dtype: int64"
      ]
     },
     "execution_count": 81,
     "metadata": {},
     "output_type": "execute_result"
    }
   ],
   "source": [
    "offer_type = autos.groupby(\"offer_type\").size()\n",
    "offer_type"
   ]
  }
 ],
 "metadata": {
  "kernelspec": {
   "display_name": "Python 3",
   "language": "python",
   "name": "python3"
  },
  "language_info": {
   "codemirror_mode": {
    "name": "ipython",
    "version": 3
   },
   "file_extension": ".py",
   "mimetype": "text/x-python",
   "name": "python",
   "nbconvert_exporter": "python",
   "pygments_lexer": "ipython3",
   "version": "3.6.5"
  }
 },
 "nbformat": 4,
 "nbformat_minor": 2
}
